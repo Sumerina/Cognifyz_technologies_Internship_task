{
 "cells": [
  {
   "cell_type": "code",
   "execution_count": 19,
   "metadata": {},
   "outputs": [],
   "source": [
    "#import python libraries and csv file\n",
    "import pandas as pd\n",
    "import numpy as np\n",
    "import matplotlib.pyplot as plt\n",
    "import seaborn as sns\n",
    "df=pd.read_csv(r\"C:\\Users\\SUMERINA\\Downloads\\COGNIFYZ_Sumerina\\Dataset .csv\", encoding= 'unicode_escape')"
   ]
  },
  {
   "cell_type": "code",
   "execution_count": 3,
   "metadata": {},
   "outputs": [
    {
     "name": "stdout",
     "output_type": "stream",
     "text": [
      "0       Excellent\n",
      "1       Excellent\n",
      "2       Very Good\n",
      "3       Excellent\n",
      "4       Excellent\n",
      "          ...    \n",
      "9546    Very Good\n",
      "9547    Very Good\n",
      "9548         Good\n",
      "9549    Very Good\n",
      "9550    Very Good\n",
      "Name: Rating text, Length: 9551, dtype: object\n"
     ]
    }
   ],
   "source": [
    "print(df['Rating text'])"
   ]
  },
  {
   "cell_type": "markdown",
   "metadata": {},
   "source": [
    "Task 1 : Restaurant Reviews\n",
    "\n",
    "Analyze the text reviews to identify the most\n",
    "common positive and negative keywords."
   ]
  },
  {
   "cell_type": "markdown",
   "metadata": {},
   "source": [
    "\n",
    "FOR THE POSITIVE REVIEWS"
   ]
  },
  {
   "cell_type": "code",
   "execution_count": 4,
   "metadata": {},
   "outputs": [
    {
     "name": "stdout",
     "output_type": "stream",
     "text": [
      "      ï»¿Restaurant ID           Restaurant Name  Country Code  \\\n",
      "0              6317637          Le Petit Souffle           162   \n",
      "1              6304287          Izakaya Kikufuji           162   \n",
      "2              6300002    Heat - Edsa Shangri-La           162   \n",
      "3              6318506                      Ooma           162   \n",
      "4              6314302               Sambo Kojin           162   \n",
      "...                ...                       ...           ...   \n",
      "9546           5915730              NamlÛ± Gurme           208   \n",
      "9547           5908749         Ceviz Aï¿½ï¿½acÛ±           208   \n",
      "9548           5915807                     Huqqa           208   \n",
      "9549           5916112         Aï¿½ï¿½ï¿½k Kahve           208   \n",
      "9550           5927402  Walter's Coffee Roastery           208   \n",
      "\n",
      "                  City                                            Address  \\\n",
      "0          Makati City  Third Floor, Century City Mall, Kalayaan Avenu...   \n",
      "1          Makati City  Little Tokyo, 2277 Chino Roces Avenue, Legaspi...   \n",
      "2     Mandaluyong City  Edsa Shangri-La, 1 Garden Way, Ortigas, Mandal...   \n",
      "3     Mandaluyong City  Third Floor, Mega Fashion Hall, SM Megamall, O...   \n",
      "4     Mandaluyong City  Third Floor, Mega Atrium, SM Megamall, Ortigas...   \n",
      "...                ...                                                ...   \n",
      "9546     ï¿½ï¿½stanbul  Kemankeï¿½ï¿½ Karamustafa Paï¿½ï¿½a Mahallesi,...   \n",
      "9547     ï¿½ï¿½stanbul  Koï¿½ï¿½uyolu Mahallesi, Muhittin ï¿½ï¿½stï¿½_...   \n",
      "9548     ï¿½ï¿½stanbul  Kuruï¿½_eï¿½ï¿½me Mahallesi, Muallim Naci Cadd...   \n",
      "9549     ï¿½ï¿½stanbul  Kuruï¿½_eï¿½ï¿½me Mahallesi, Muallim Naci Cadd...   \n",
      "9550     ï¿½ï¿½stanbul  Cafeaï¿½ï¿½a Mahallesi, BademaltÛ± Sokak, No 2...   \n",
      "\n",
      "                                        Locality  \\\n",
      "0      Century City Mall, Poblacion, Makati City   \n",
      "1     Little Tokyo, Legaspi Village, Makati City   \n",
      "2     Edsa Shangri-La, Ortigas, Mandaluyong City   \n",
      "3         SM Megamall, Ortigas, Mandaluyong City   \n",
      "4         SM Megamall, Ortigas, Mandaluyong City   \n",
      "...                                          ...   \n",
      "9546                                  Karakï¿½_y   \n",
      "9547                               Koï¿½ï¿½uyolu   \n",
      "9548                           Kuruï¿½_eï¿½ï¿½me   \n",
      "9549                           Kuruï¿½_eï¿½ï¿½me   \n",
      "9550                                        Moda   \n",
      "\n",
      "                                       Locality Verbose   Longitude  \\\n",
      "0     Century City Mall, Poblacion, Makati City, Mak...  121.027535   \n",
      "1     Little Tokyo, Legaspi Village, Makati City, Ma...  121.014101   \n",
      "2     Edsa Shangri-La, Ortigas, Mandaluyong City, Ma...  121.056831   \n",
      "3     SM Megamall, Ortigas, Mandaluyong City, Mandal...  121.056475   \n",
      "4     SM Megamall, Ortigas, Mandaluyong City, Mandal...  121.057508   \n",
      "...                                                 ...         ...   \n",
      "9546                          Karakï¿½_y, ï¿½ï¿½stanbul   28.977392   \n",
      "9547                       Koï¿½ï¿½uyolu, ï¿½ï¿½stanbul   29.041297   \n",
      "9548                   Kuruï¿½_eï¿½ï¿½me, ï¿½ï¿½stanbul   29.034640   \n",
      "9549                   Kuruï¿½_eï¿½ï¿½me, ï¿½ï¿½stanbul   29.036019   \n",
      "9550                                Moda, ï¿½ï¿½stanbul   29.026016   \n",
      "\n",
      "       Latitude                          Cuisines  ...          Currency  \\\n",
      "0     14.565443        French, Japanese, Desserts  ...  Botswana Pula(P)   \n",
      "1     14.553708                          Japanese  ...  Botswana Pula(P)   \n",
      "2     14.581404  Seafood, Asian, Filipino, Indian  ...  Botswana Pula(P)   \n",
      "3     14.585318                   Japanese, Sushi  ...  Botswana Pula(P)   \n",
      "4     14.584450                  Japanese, Korean  ...  Botswana Pula(P)   \n",
      "...         ...                               ...  ...               ...   \n",
      "9546  41.022793                           Turkish  ...  Turkish Lira(TL)   \n",
      "9547  41.009847   World Cuisine, Patisserie, Cafe  ...  Turkish Lira(TL)   \n",
      "9548  41.055817            Italian, World Cuisine  ...  Turkish Lira(TL)   \n",
      "9549  41.057979                   Restaurant Cafe  ...  Turkish Lira(TL)   \n",
      "9550  40.984776                              Cafe  ...  Turkish Lira(TL)   \n",
      "\n",
      "     Has Table booking Has Online delivery Is delivering now  \\\n",
      "0                  Yes                  No                No   \n",
      "1                  Yes                  No                No   \n",
      "2                  Yes                  No                No   \n",
      "3                   No                  No                No   \n",
      "4                  Yes                  No                No   \n",
      "...                ...                 ...               ...   \n",
      "9546                No                  No                No   \n",
      "9547                No                  No                No   \n",
      "9548                No                  No                No   \n",
      "9549                No                  No                No   \n",
      "9550                No                  No                No   \n",
      "\n",
      "     Switch to order menu Price range  Aggregate rating  Rating color  \\\n",
      "0                      No           3               4.8    Dark Green   \n",
      "1                      No           3               4.5    Dark Green   \n",
      "2                      No           4               4.4         Green   \n",
      "3                      No           4               4.9    Dark Green   \n",
      "4                      No           4               4.8    Dark Green   \n",
      "...                   ...         ...               ...           ...   \n",
      "9546                   No           3               4.1         Green   \n",
      "9547                   No           3               4.2         Green   \n",
      "9548                   No           4               3.7        Yellow   \n",
      "9549                   No           4               4.0         Green   \n",
      "9550                   No           2               4.0         Green   \n",
      "\n",
      "     Rating text Votes  \n",
      "0      Excellent   314  \n",
      "1      Excellent   591  \n",
      "2      Very Good   270  \n",
      "3      Excellent   365  \n",
      "4      Excellent   229  \n",
      "...          ...   ...  \n",
      "9546   Very Good   788  \n",
      "9547   Very Good  1034  \n",
      "9548        Good   661  \n",
      "9549   Very Good   901  \n",
      "9550   Very Good   591  \n",
      "\n",
      "[7217 rows x 21 columns]\n"
     ]
    }
   ],
   "source": [
    "positive_data = df.loc[df['Aggregate rating'] >= 2.5]\n",
    "print(positive_data)"
   ]
  },
  {
   "cell_type": "code",
   "execution_count": 5,
   "metadata": {},
   "outputs": [
    {
     "name": "stdout",
     "output_type": "stream",
     "text": [
      "['Excellent' 'Very Good' 'Good' 'Average']\n"
     ]
    }
   ],
   "source": [
    "positive_keywords = positive_data['Rating text'].unique()\n",
    "print(positive_keywords)"
   ]
  },
  {
   "cell_type": "code",
   "execution_count": 6,
   "metadata": {},
   "outputs": [
    {
     "data": {
      "image/png": "[encoded data removed]",
      "text/plain": [
       "<Figure size 640x480 with 1 Axes>"
      ]
     },
     "metadata": {},
     "output_type": "display_data"
    }
   ],
   "source": [
    "plt.hist(positive_data['Rating text'], label=positive_keywords)\n",
    "plt.show()"
   ]
  },
  {
   "cell_type": "markdown",
   "metadata": {},
   "source": [
    "\n",
    "FOR THE NEGATIVE REVIEWS"
   ]
  },
  {
   "cell_type": "code",
   "execution_count": 7,
   "metadata": {},
   "outputs": [
    {
     "name": "stdout",
     "output_type": "stream",
     "text": [
      "['Poor']\n"
     ]
    }
   ],
   "source": [
    "negative_data = df.loc[(df['Aggregate rating'] < 2.5) & (df['Aggregate rating'] > 0)]\n",
    "negative_keywords = negative_data['Rating text'].unique()\n",
    "print(negative_keywords)"
   ]
  },
  {
   "cell_type": "code",
   "execution_count": 8,
   "metadata": {},
   "outputs": [
    {
     "data": {
      "image/png": "[encoded data removed]",
      "text/plain": [
       "<Figure size 640x480 with 1 Axes>"
      ]
     },
     "metadata": {},
     "output_type": "display_data"
    }
   ],
   "source": [
    "plt.hist(negative_data['Rating text'], label=negative_keywords)\n",
    "plt.show()"
   ]
  },
  {
   "cell_type": "markdown",
   "metadata": {},
   "source": [
    "Calculate the average length of reviews and explore if there is a relationship between review length and rating."
   ]
  },
  {
   "cell_type": "code",
   "execution_count": 14,
   "metadata": {},
   "outputs": [
    {
     "name": "stdout",
     "output_type": "stream",
     "text": [
      "\n",
      "Average Review Length : 7.02 characters\n"
     ]
    }
   ],
   "source": [
    "#Measuring the length of reviews(Rating text) and calculate the avg length\n",
    "df['Review_length'] = df['Rating text'].astype(str).apply(len)\n",
    "average_length = df['Review_length'].mean()\n",
    "print(f\"\\nAverage Review Length : {average_length:.2f} characters\")"
   ]
  },
  {
   "cell_type": "code",
   "execution_count": 18,
   "metadata": {},
   "outputs": [
    {
     "name": "stdout",
     "output_type": "stream",
     "text": [
      "Review Type Counts : \n",
      " Rating text\n",
      "Average      3737\n",
      "Not rated    2148\n",
      "Good         2100\n",
      "Very Good    1079\n",
      "Excellent     301\n",
      "Poor          186\n",
      "Name: count, dtype: int64\n"
     ]
    }
   ],
   "source": [
    "#Measuring the counts of reviews(Rating text)\n",
    "Review_counts = df['Rating text'].value_counts()\n",
    "print(\"Review Type Counts : \\n\", Review_counts)"
   ]
  },
  {
   "cell_type": "code",
   "execution_count": 15,
   "metadata": {},
   "outputs": [],
   "source": [
    "#Mapping rating categories to numeric ratings for analysis\n",
    "rating_map={\n",
    "    \"Not Rated\": 0, \"Poor\": 1, \"Average\": 2, \"Good\": 3, \"Very Good\": 4, \"Excellent\": 5\n",
    "}\n",
    "df['rating_score']=df['Rating text'].map(rating_map)"
   ]
  },
  {
   "cell_type": "code",
   "execution_count": 16,
   "metadata": {},
   "outputs": [
    {
     "name": "stdout",
     "output_type": "stream",
     "text": [
      "\n",
      "Correlation between review length and rating :0.26\n"
     ]
    }
   ],
   "source": [
    "#checking if longer reviews tend to have better ratings\n",
    "correlation = df[['Review_length', 'rating_score']].corr().iloc[0,1]\n",
    "print(f\"\\nCorrelation between review length and rating :{correlation:.2f}\")\n"
   ]
  },
  {
   "cell_type": "code",
   "execution_count": 21,
   "metadata": {},
   "outputs": [
    {
     "data": {
      "image/png": "[encoded data removed]",
      "text/plain": [
       "<Figure size 1000x500 with 1 Axes>"
      ]
     },
     "metadata": {},
     "output_type": "display_data"
    }
   ],
   "source": [
    "#bar chart visualization\n",
    "plt.figure(figsize=(10,5))\n",
    "sns.barplot(x=Review_counts.index, y=Review_counts.values, hue=Review_counts.index, palette=\"coolwarm\", legend=False)\n",
    "plt.xlabel(\"Review type\")\n",
    "plt.ylabel(\"Number of reviews\")\n",
    "plt.title(\"Distribution of Review Types\")\n",
    "plt.xticks(rotation=45)\n",
    "plt.show()"
   ]
  }
 ],
 "metadata": {
  "kernelspec": {
   "display_name": "Python 3",
   "language": "python",
   "name": "python3"
  },
  "language_info": {
   "codemirror_mode": {
    "name": "ipython",
    "version": 3
   },
   "file_extension": ".py",
   "mimetype": "text/x-python",
   "name": "python",
   "nbconvert_exporter": "python",
   "pygments_lexer": "ipython3",
   "version": "3.13.2"
  }
 },
 "nbformat": 4,
 "nbformat_minor": 2
}
