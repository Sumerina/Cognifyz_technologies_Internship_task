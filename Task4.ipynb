{
 "cells": [
  {
   "cell_type": "code",
   "execution_count": 1,
   "metadata": {},
   "outputs": [],
   "source": [
    "#import python libraries and csv file\n",
    "import pandas as pd\n",
    "import numpy as np\n",
    "import matplotlib.pyplot as plt\n",
    "df=pd.read_csv(r\"C:\\Users\\SUMERINA\\Downloads\\COGNIFYZ_Sumerina\\Dataset .csv\", encoding= 'unicode_escape')"
   ]
  },
  {
   "cell_type": "markdown",
   "metadata": {},
   "source": [
    "Task: Online Delivery"
   ]
  },
  {
   "cell_type": "code",
   "execution_count": 2,
   "metadata": {},
   "outputs": [
    {
     "name": "stdout",
     "output_type": "stream",
     "text": [
      "Index(['ï»¿Restaurant ID', 'Restaurant Name', 'Country Code', 'City',\n",
      "       'Address', 'Locality', 'Locality Verbose', 'Longitude', 'Latitude',\n",
      "       'Cuisines', 'Average Cost for two', 'Currency', 'Has Table booking',\n",
      "       'Has Online delivery', 'Is delivering now', 'Switch to order menu',\n",
      "       'Price range', 'Aggregate rating', 'Rating color', 'Rating text',\n",
      "       'Votes'],\n",
      "      dtype='object')\n"
     ]
    }
   ],
   "source": [
    "print(df.columns)"
   ]
  },
  {
   "cell_type": "markdown",
   "metadata": {},
   "source": [
    "Determine the percentage of restaurants\n",
    "that offer online delivery."
   ]
  },
  {
   "cell_type": "code",
   "execution_count": 3,
   "metadata": {},
   "outputs": [
    {
     "name": "stdout",
     "output_type": "stream",
     "text": [
      "Total no of restaurants having online delivery service :  2451\n"
     ]
    }
   ],
   "source": [
    "online_delivery = df['Has Online delivery'].value_counts().get('Yes',0)\n",
    "print(\"Total no of restaurants having online delivery service : \", online_delivery)\n"
   ]
  },
  {
   "cell_type": "code",
   "execution_count": 5,
   "metadata": {},
   "outputs": [
    {
     "name": "stdout",
     "output_type": "stream",
     "text": [
      "Number of restaurants with no online delivery service :  7100\n"
     ]
    }
   ],
   "source": [
    "no_online_delivery = df['Has Online delivery'].value_counts().get('No',0)\n",
    "print(\"Number of restaurants with no online delivery service : \", no_online_delivery)\n"
   ]
  },
  {
   "cell_type": "code",
   "execution_count": 6,
   "metadata": {},
   "outputs": [
    {
     "name": "stdout",
     "output_type": "stream",
     "text": [
      "Total % of restaurants having online delivery service is : 25.66\n"
     ]
    }
   ],
   "source": [
    "Row_count=len(df)\n",
    "percentage_of_online_delivery=round((online_delivery/Row_count)*100,2)\n",
    "print(\"Total % of restaurants having online delivery service is :\", percentage_of_online_delivery)\n"
   ]
  },
  {
   "cell_type": "code",
   "execution_count": 7,
   "metadata": {},
   "outputs": [
    {
     "name": "stdout",
     "output_type": "stream",
     "text": [
      "Total % of restaurants without online delivery service is :  74.34\n"
     ]
    }
   ],
   "source": [
    "percentage_of_no_online_delivery=round((no_online_delivery/Row_count)*100,2)\n",
    "print(\"Total % of restaurants without online delivery service is : \",percentage_of_no_online_delivery)"
   ]
  },
  {
   "cell_type": "markdown",
   "metadata": {},
   "source": [
    "Compare the average ratings of restaurants\n",
    "with and without online delivery."
   ]
  },
  {
   "cell_type": "code",
   "execution_count": null,
   "metadata": {},
   "outputs": [
    {
     "name": "stdout",
     "output_type": "stream",
     "text": [
      "Average rating with online delivery :  3.25\n"
     ]
    }
   ],
   "source": [
    "Avg_rating_with_online_delivery=round(df[df['Has Online delivery'] == 'Yes']['Aggregate rating'].mean(),2)\n",
    "print(\"Average ratings of restaurants with online delivery : \",Avg_rating_with_online_delivery)\n"
   ]
  },
  {
   "cell_type": "code",
   "execution_count": 11,
   "metadata": {},
   "outputs": [
    {
     "name": "stdout",
     "output_type": "stream",
     "text": [
      "Average ratings of restaurants without online delivery :  2.47\n"
     ]
    }
   ],
   "source": [
    "Avg_rating_without_online_delivery=round(df[df['Has Online delivery']== 'No']['Aggregate rating'].mean(),2)\n",
    "print(\"Average ratings of restaurants without online delivery : \", Avg_rating_without_online_delivery)\n"
   ]
  },
  {
   "cell_type": "code",
   "execution_count": 12,
   "metadata": {},
   "outputs": [
    {
     "data": {
      "image/png": "[encoded data removed]",
      "text/plain": [
       "<Figure size 640x480 with 1 Axes>"
      ]
     },
     "metadata": {},
     "output_type": "display_data"
    }
   ],
   "source": [
    "labels = ['Yes', 'No']\n",
    "average_ratings = [Avg_rating_with_online_delivery, Avg_rating_without_online_delivery]\n",
    "colors = 'lightgreen', 'skyblue'\n",
    "plt.barh(labels, average_ratings, color=colors)\n",
    "plt.ylabel('Online Delivery')\n",
    "plt.xlabel('Average Rating')\n",
    "plt.title('Comparison of avg ratings of online delivery')\n",
    "plt.show()"
   ]
  }
 ],
 "metadata": {
  "kernelspec": {
   "display_name": "Python 3",
   "language": "python",
   "name": "python3"
  },
  "language_info": {
   "codemirror_mode": {
    "name": "ipython",
    "version": 3
   },
   "file_extension": ".py",
   "mimetype": "text/x-python",
   "name": "python",
   "nbconvert_exporter": "python",
   "pygments_lexer": "ipython3",
   "version": "3.13.2"
  }
 },
 "nbformat": 4,
 "nbformat_minor": 2
}
